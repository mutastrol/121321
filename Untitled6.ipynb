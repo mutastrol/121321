{
 "cells": [
  {
   "cell_type": "code",
   "execution_count": 94,
   "id": "7df7e31c-fbac-4d64-85ee-a445df4a4521",
   "metadata": {},
   "outputs": [
    {
     "ename": "IndentationError",
     "evalue": "expected an indented block (Temp/ipykernel_10836/3605384551.py, line 10)",
     "output_type": "error",
     "traceback": [
      "\u001b[1;36m  File \u001b[1;32m\"C:\\Users\\BIT\\AppData\\Local\\Temp/ipykernel_10836/3605384551.py\"\u001b[1;36m, line \u001b[1;32m10\u001b[0m\n\u001b[1;33m    #print(response.text)\u001b[0m\n\u001b[1;37m                         ^\u001b[0m\n\u001b[1;31mIndentationError\u001b[0m\u001b[1;31m:\u001b[0m expected an indented block\n"
     ]
    }
   ],
   "source": [
    "import requests\n",
    "import json\n",
    "\n",
    "response = requests.get('https://api.github.com')\n",
    "#print(response.content)\n",
    "#print(response.text)\n",
    "\n",
    "if response.status_code == 200 :\n",
    "    #print(response.content)\n",
    "    #print(response.text)"
   ]
  },
  {
   "cell_type": "code",
   "execution_count": 30,
   "id": "ee0b5246-3c1e-434f-bda3-c16c5b28476d",
   "metadata": {},
   "outputs": [
    {
     "ename": "TypeError",
     "evalue": "write() argument must be str, not dict",
     "output_type": "error",
     "traceback": [
      "\u001b[1;31m---------------------------------------------------------------------------\u001b[0m",
      "\u001b[1;31mTypeError\u001b[0m                                 Traceback (most recent call last)",
      "\u001b[1;32m~\\AppData\\Local\\Temp/ipykernel_10836/2711023174.py\u001b[0m in \u001b[0;36m<module>\u001b[1;34m\u001b[0m\n\u001b[0;32m      5\u001b[0m \u001b[1;33m\u001b[0m\u001b[0m\n\u001b[0;32m      6\u001b[0m \u001b[1;32mwith\u001b[0m \u001b[0mopen\u001b[0m\u001b[1;33m(\u001b[0m \u001b[1;34m\"json_object\"\u001b[0m\u001b[1;33m,\u001b[0m \u001b[1;34m\"w\"\u001b[0m\u001b[1;33m,\u001b[0m \u001b[0mencoding\u001b[0m \u001b[1;33m=\u001b[0m \u001b[1;34m\"utf-8\"\u001b[0m\u001b[1;33m)\u001b[0m \u001b[1;32mas\u001b[0m \u001b[0mf\u001b[0m \u001b[1;33m:\u001b[0m  \u001b[1;31m#파일을 오픈하는것\u001b[0m\u001b[1;33m\u001b[0m\u001b[1;33m\u001b[0m\u001b[0m\n\u001b[1;32m----> 7\u001b[1;33m     \u001b[0mf\u001b[0m\u001b[1;33m.\u001b[0m\u001b[0mwrite\u001b[0m\u001b[1;33m(\u001b[0m\u001b[0mjson_object\u001b[0m\u001b[1;33m)\u001b[0m\u001b[1;33m\u001b[0m\u001b[1;33m\u001b[0m\u001b[0m\n\u001b[0m",
      "\u001b[1;31mTypeError\u001b[0m: write() argument must be str, not dict"
     ]
    }
   ],
   "source": [
    "if response.status_code == 200 :\n",
    "    json_object = json.loads(response.text)\n",
    "    \n",
    "#print(json_object['current_user_url'])\n",
    "\n",
    "with open( \"json_object\", \"w\", encoding = \"utf-8\") as f :  #파일을 오픈하는것\n",
    "    f.write(json_object)"
   ]
  },
  {
   "cell_type": "code",
   "execution_count": 32,
   "id": "4c93e2a1-d684-478d-a4b8-22d0b21b1673",
   "metadata": {},
   "outputs": [
    {
     "name": "stdout",
     "output_type": "stream",
     "text": [
      "<class 're.Pattern'>\n",
      "<re.Match object; span=(0, 1), match='a'>\n",
      "<re.Match object; span=(0, 1), match='b'>\n",
      "<re.Match object; span=(0, 1), match='a'>\n"
     ]
    }
   ],
   "source": [
    "import re\n",
    "p = re.compile('[abc]')\n",
    "print(type(p))\n",
    "print(p.match('a'))\n",
    "print(p.match('b'))\n",
    "print(p.match('ac'))"
   ]
  },
  {
   "cell_type": "code",
   "execution_count": 39,
   "id": "8b05e355-aa4a-407b-90c3-3ba1329b9438",
   "metadata": {},
   "outputs": [
    {
     "name": "stdout",
     "output_type": "stream",
     "text": [
      "None\n"
     ]
    }
   ],
   "source": [
    "import re\n",
    "#p = re.compile('a,b')\n",
    "p = re.compile('a,b' , re.DOTALL)\n",
    "\n",
    "print(p.match('a\\nb'))"
   ]
  },
  {
   "cell_type": "code",
   "execution_count": 48,
   "id": "ebfacd58-4304-4c18-b22a-b09ae4efb002",
   "metadata": {},
   "outputs": [
    {
     "name": "stdout",
     "output_type": "stream",
     "text": [
      "['python one', 'python two', 'python three']\n",
      "<re.Match object; span=(0, 10), match='python one'>\n"
     ]
    }
   ],
   "source": [
    "import re\n",
    "\n",
    "#p = re.compile(\"^python\\s\\w+\")\n",
    "p = re.compile(\"^python\\s\\w+\", re.MULTILINE)\n",
    "\n",
    "data = \"\"\"python one\n",
    "life is too short\n",
    "python two\n",
    "you need python\n",
    "python three\"\"\"\n",
    "\n",
    "print(p.findall(data))  # 매치된걸 찾고싶다\n",
    "print(p.match(data))"
   ]
  },
  {
   "cell_type": "code",
   "execution_count": 49,
   "id": "995b5d63-599a-4b6a-95f0-cea03dd04185",
   "metadata": {},
   "outputs": [],
   "source": [
    "p = re.compile('[a-z]+') #영문자 여러개"
   ]
  },
  {
   "cell_type": "code",
   "execution_count": 50,
   "id": "0cb25900-d287-4525-93e2-ccaa36b1a3f2",
   "metadata": {},
   "outputs": [
    {
     "name": "stdout",
     "output_type": "stream",
     "text": [
      "<re.Match object; span=(0, 5), match='aaaaa'>\n",
      "<re.Match object; span=(0, 8), match='bbbbbbbb'>\n",
      "<re.Match object; span=(0, 5), match='laaaa'>\n",
      "<re.Match object; span=(0, 7), match='aaalaaa'>\n",
      "0\n",
      "8\n"
     ]
    }
   ],
   "source": [
    "print(p.match('aaaaa'))\n",
    "\n",
    "print(p.match('bbbbbbbb'))\n",
    "\n",
    "print(p.match('laaaa'))\n",
    "\n",
    "print(p.match('aaalaaa'))\n",
    "\n",
    "x = p.match('baaalaaa')\n",
    "print(x.start())\n",
    "print(x.end())"
   ]
  },
  {
   "cell_type": "code",
   "execution_count": 51,
   "id": "26424001-4edf-4eec-a2a1-4f30272f5662",
   "metadata": {},
   "outputs": [],
   "source": [
    "#search\n",
    "#전체 문자열에서 첫번쨰 매치 찾기\n",
    "#문자열 전체에서 검색하여 처음으로 매치되느 문자열을 찾는다.\n",
    "#검색을 결과로 re.Match 객체를 리턴한다."
   ]
  },
  {
   "cell_type": "code",
   "execution_count": 53,
   "id": "eec1f8ad-74e3-467e-bafd-b59d75fcac69",
   "metadata": {},
   "outputs": [
    {
     "name": "stdout",
     "output_type": "stream",
     "text": [
      "<re.Match object; span=(0, 5), match='aaaaa'>\n",
      "<re.Match object; span=(2, 6), match='aaaa'>\n",
      "<re.Match object; span=(0, 3), match='aaa'>\n",
      "<re.Match object; span=(1, 4), match='aaa'>\n"
     ]
    }
   ],
   "source": [
    "print(p.search('aaaaa'))\n",
    "\n",
    "print(p.search('11aaaa'))\n",
    "\n",
    "print(p.search('aaa1aaa'))\n",
    "\n",
    "print(p.search('1aaa11aaa1'))"
   ]
  },
  {
   "cell_type": "code",
   "execution_count": 56,
   "id": "6edf011f-a6f2-42ce-8b88-7545198d8d69",
   "metadata": {},
   "outputs": [
    {
     "name": "stdout",
     "output_type": "stream",
     "text": [
      "['aaa']\n",
      "['aaa']\n",
      "['a', 'a', 'a', 'a', 'a']\n",
      "['aa', 'aaa', 'aa', 'aaa']\n"
     ]
    }
   ],
   "source": [
    "print(p. findall('aaa'))\n",
    "\n",
    "print(p. findall('11aaa'))\n",
    "\n",
    "print(p. findall('1a1a1a1a1a'))\n",
    "\n",
    "print(p. findall('1aa1aaa1aa1aaa'))"
   ]
  },
  {
   "cell_type": "code",
   "execution_count": 58,
   "id": "7ed2b7ba-21fc-4344-af66-17815c680353",
   "metadata": {},
   "outputs": [
    {
     "name": "stdout",
     "output_type": "stream",
     "text": [
      "<re.Match object; span=(0, 1), match='a'>\n",
      "<re.Match object; span=(2, 4), match='bb'>\n",
      "<re.Match object; span=(5, 7), match='cc'>\n"
     ]
    }
   ],
   "source": [
    "iterator = p.finditer('a1bb1cc')   #리스트를 만들어서\n",
    "\n",
    "for i in iterator:   #그 리스트에서 하나하나씩 빼서 쓰겠다는 for문\n",
    "    print(i)"
   ]
  },
  {
   "cell_type": "code",
   "execution_count": 109,
   "id": "f86f7a7e-7ac7-4ee2-8b8d-5fb8c8d11dca",
   "metadata": {},
   "outputs": [
    {
     "name": "stdout",
     "output_type": "stream",
     "text": [
      "['26', '23', '20', '11']\n",
      "['', 'yoon', '', 'is', '', '', '', '', 'and', '', '', 'heon', '', 'is', '', '', '', '', 'kim', '', 'is', '', '', '', '', 'and', '', 'joy', '', 'is', '', '', '', '', '', '']\n",
      "['Theon']\n",
      "{'Theon': '26'}\n"
     ]
    }
   ],
   "source": [
    "#데이터 분리\n",
    "\n",
    "import re \n",
    "\n",
    "Nameage = '''\n",
    "yoon is 26 and Theon is 23\n",
    "kim is 20 and joy is 11 \n",
    "''' #문자열\n",
    "\n",
    "p = re. compile('\\d{1,3}')\n",
    "print(p.findall(Nameage))\n",
    "\n",
    "p2 = re.compile('[a-z]*')\n",
    "print(p2.findall(Nameage))\n",
    "\n",
    "p2 = re.compile('[A-Z][a-z]*')\n",
    "print(p2.findall(Nameage))\n",
    "\n",
    "ages = re.findall ('\\d{1,3}', Nameage)\n",
    "names = re.findall ('[A-Z][a-z]*', Nameage)\n",
    "\n",
    "myDict = {} #딕셔너리 제작\n",
    "\n",
    "for i in names :\n",
    "    myDict[i] = ages[0]\n",
    "    \n",
    "print(myDict)"
   ]
  },
  {
   "cell_type": "code",
   "execution_count": 75,
   "id": "7bf2e9d4-01f7-402b-a768-19322c568b5f",
   "metadata": {},
   "outputs": [
    {
     "ename": "NameError",
     "evalue": "name 'names' is not defined",
     "output_type": "error",
     "traceback": [
      "\u001b[1;31m---------------------------------------------------------------------------\u001b[0m",
      "\u001b[1;31mNameError\u001b[0m                                 Traceback (most recent call last)",
      "\u001b[1;32m~\\AppData\\Local\\Temp/ipykernel_10836/4044577632.py\u001b[0m in \u001b[0;36m<module>\u001b[1;34m\u001b[0m\n\u001b[0;32m      1\u001b[0m \u001b[0mmyDict\u001b[0m \u001b[1;33m=\u001b[0m \u001b[1;33m{\u001b[0m\u001b[1;33m}\u001b[0m \u001b[1;31m#딕셔너리 제작\u001b[0m\u001b[1;33m\u001b[0m\u001b[1;33m\u001b[0m\u001b[0m\n\u001b[0;32m      2\u001b[0m \u001b[1;33m\u001b[0m\u001b[0m\n\u001b[1;32m----> 3\u001b[1;33m \u001b[1;32mfor\u001b[0m \u001b[0mi\u001b[0m \u001b[1;32min\u001b[0m \u001b[0mnames\u001b[0m \u001b[1;33m:\u001b[0m\u001b[1;33m\u001b[0m\u001b[1;33m\u001b[0m\u001b[0m\n\u001b[0m\u001b[0;32m      4\u001b[0m     \u001b[0mmyDict\u001b[0m\u001b[1;33m[\u001b[0m\u001b[0mi\u001b[0m\u001b[1;33m]\u001b[0m \u001b[1;33m=\u001b[0m \u001b[1;34m'gg'\u001b[0m\u001b[1;33m\u001b[0m\u001b[1;33m\u001b[0m\u001b[0m\n\u001b[0;32m      5\u001b[0m \u001b[1;33m\u001b[0m\u001b[0m\n",
      "\u001b[1;31mNameError\u001b[0m: name 'names' is not defined"
     ]
    }
   ],
   "source": [
    "myDict = {} #딕셔너리 제작\n",
    "\n",
    "for i in names :\n",
    "    myDict[i] = \n",
    "    \n",
    "print(myDict)"
   ]
  },
  {
   "cell_type": "code",
   "execution_count": 167,
   "id": "460227b1-ec58-4cbe-b33d-59ff4781010b",
   "metadata": {},
   "outputs": [],
   "source": [
    "import requests\n",
    "import json\n",
    "\n",
    "response = requests.get('http://www.summet.com/dmsi/html/codesamples/addresses.html')  #사이트 가져오기\n",
    "#print(response.text)\n",
    "\n",
    "a1 = re.compile(\"\\([0-9]{3}\\) [0-9]{3}-[0-9]{4}\") #컴파일로 숫자 다 불러내서 전화번호만 거르기                               \n",
    "#print(a1.findall(response.text)) \n",
    "\n",
    "phone_num =[] #들어갈 리스트 제작\n",
    "phone_num = a1.findall(response.text) #compile 을 통해 찾아낸 값을 findall을 통해 list로 출력\n",
    "#print(type(phone_num))\n",
    "\n",
    "with open( \"phone_num.txt\",\"w\", encoding = \"utf-8\" ) as x : #파일을 열어서 a.(확장자) 의 이름을 가진 파일을 만들어 낸다.\n",
    "        for a in phone_num :  \n",
    "            x.write(a)"
   ]
  }
 ],
 "metadata": {
  "kernelspec": {
   "display_name": "Python 3 (ipykernel)",
   "language": "python",
   "name": "python3"
  },
  "language_info": {
   "codemirror_mode": {
    "name": "ipython",
    "version": 3
   },
   "file_extension": ".py",
   "mimetype": "text/x-python",
   "name": "python",
   "nbconvert_exporter": "python",
   "pygments_lexer": "ipython3",
   "version": "3.9.7"
  }
 },
 "nbformat": 4,
 "nbformat_minor": 5
}
