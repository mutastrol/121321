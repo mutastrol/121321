{
 "cells": [
  {
   "cell_type": "code",
   "execution_count": 3,
   "id": "9650b20a-a147-49fd-a175-64b739ae79cd",
   "metadata": {},
   "outputs": [
    {
     "name": "stdout",
     "output_type": "stream",
     "text": [
      "True\n"
     ]
    }
   ],
   "source": [
    "data = 50\n",
    "score = 100\n",
    "\n",
    "print( data < score )"
   ]
  },
  {
   "cell_type": "code",
   "execution_count": 4,
   "id": "068af86d-6140-41ce-84b1-20ecc59843df",
   "metadata": {},
   "outputs": [
    {
     "name": "stdout",
     "output_type": "stream",
     "text": [
      "True\n"
     ]
    }
   ],
   "source": [
    "data = 50\n",
    "score = 100\n",
    "\n",
    "print( data <= score )"
   ]
  },
  {
   "cell_type": "code",
   "execution_count": 5,
   "id": "6d2dc4cf-7cd9-46a5-b4df-d0831d5a8472",
   "metadata": {},
   "outputs": [
    {
     "name": "stdout",
     "output_type": "stream",
     "text": [
      "True\n"
     ]
    }
   ],
   "source": [
    "data = 50\n",
    "score = 100\n",
    "\n",
    "print( data <= score )"
   ]
  },
  {
   "cell_type": "code",
   "execution_count": 8,
   "id": "815524b5-7658-46c1-b453-265b93ce3cfa",
   "metadata": {},
   "outputs": [
    {
     "name": "stdout",
     "output_type": "stream",
     "text": [
      "True\n"
     ]
    }
   ],
   "source": [
    "data = 50\n",
    "score = 100\n",
    "\n",
    "print( data <= score )"
   ]
  },
  {
   "cell_type": "code",
   "execution_count": 9,
   "id": "3a4c5547-7910-49b0-97b7-26459c791b40",
   "metadata": {},
   "outputs": [
    {
     "name": "stdout",
     "output_type": "stream",
     "text": [
      "False\n"
     ]
    }
   ],
   "source": [
    "data = 50\n",
    "scort = 100\n",
    "\n",
    "print( data > score )"
   ]
  },
  {
   "cell_type": "code",
   "execution_count": 10,
   "id": "393f9626-5cbd-4ec9-be2e-b38aa706babb",
   "metadata": {},
   "outputs": [
    {
     "name": "stdout",
     "output_type": "stream",
     "text": [
      "False\n"
     ]
    }
   ],
   "source": [
    "data = 50\n",
    "scort = 100\n",
    "\n",
    "print( data >= score )"
   ]
  },
  {
   "cell_type": "code",
   "execution_count": 6,
   "id": "d6432faf-62bb-4623-a3d4-744bfa09a050",
   "metadata": {},
   "outputs": [
    {
     "name": "stdout",
     "output_type": "stream",
     "text": [
      "False\n"
     ]
    }
   ],
   "source": [
    "data = 50\n",
    "scort = 100\n",
    "\n",
    "print( data == score ) # 같으면 True"
   ]
  },
  {
   "cell_type": "code",
   "execution_count": 7,
   "id": "68aa4770-490d-4daa-a1fa-82ec76bfa768",
   "metadata": {},
   "outputs": [
    {
     "name": "stdout",
     "output_type": "stream",
     "text": [
      "True\n"
     ]
    }
   ],
   "source": [
    "data = 50\n",
    "scort = 100\n",
    "\n",
    "print( data != score ) # 다르면 True"
   ]
  },
  {
   "cell_type": "code",
   "execution_count": 12,
   "id": "029d0c63-7eab-437b-9c7a-1dccb1d36b49",
   "metadata": {},
   "outputs": [
    {
     "name": "stdout",
     "output_type": "stream",
     "text": [
      "a\n",
      "5\n"
     ]
    }
   ],
   "source": [
    "a=5\n",
    "print('a')\n",
    "print(a)"
   ]
  },
  {
   "cell_type": "code",
   "execution_count": 14,
   "id": "cf7fa1a0-700a-431c-8099-42dd37993299",
   "metadata": {},
   "outputs": [
    {
     "name": "stdout",
     "output_type": "stream",
     "text": [
      "30\n",
      "30\n"
     ]
    }
   ],
   "source": [
    "b=10\n",
    "c=20\n",
    "print(b+c)\n",
    "d=b+c\n",
    "print(d)"
   ]
  },
  {
   "cell_type": "code",
   "execution_count": 20,
   "id": "a8aa569a-eb6f-4ac1-8f06-4420aed58423",
   "metadata": {},
   "outputs": [
    {
     "name": "stdin",
     "output_type": "stream",
     "text": [
      "이름을 입력하세요 윤재근\n"
     ]
    },
    {
     "name": "stdout",
     "output_type": "stream",
     "text": [
      "윤재근입니다\n"
     ]
    }
   ],
   "source": [
    "a=input('이름을 입력하세요')\n",
    "print(a+'입니다')"
   ]
  },
  {
   "cell_type": "code",
   "execution_count": 26,
   "id": "fe33fc33-308e-4746-b983-7bf49ae05de0",
   "metadata": {},
   "outputs": [
    {
     "name": "stdout",
     "output_type": "stream",
     "text": [
      "<class 'int'>\n",
      "<class 'float'>\n",
      "<class 'str'>\n",
      "<class 'bool'>\n"
     ]
    }
   ],
   "source": [
    "a=5\n",
    "b=3.0\n",
    "c='윤재근'\n",
    "d=True\n",
    "print(type(a))\n",
    "print(type(b))\n",
    "print(type(c))\n",
    "print(type(d))"
   ]
  },
  {
   "cell_type": "code",
   "execution_count": 31,
   "id": "c1a7de8b-1c31-4219-9510-7220c960c3ba",
   "metadata": {},
   "outputs": [
    {
     "name": "stdin",
     "output_type": "stream",
     "text": [
      "숫자를 입력하세요 1\n",
      "숫자를 입력하세요 2\n"
     ]
    },
    {
     "name": "stdout",
     "output_type": "stream",
     "text": [
      "12\n",
      "<class 'str'>\n",
      "<class 'int'>\n",
      "3\n"
     ]
    }
   ],
   "source": [
    "a=input('숫자를 입력하세요')\n",
    "b=input('숫자를 입력하세요')\n",
    "print(a+b)\n",
    "print(type(a))\n",
    "a1=int(a)\n",
    "print(type(a1))\n",
    "b1=int(b)\n",
    "print(a1+b1)"
   ]
  },
  {
   "cell_type": "code",
   "execution_count": 16,
   "id": "2d5ae003-7ccf-4430-9392-b27801a9935e",
   "metadata": {},
   "outputs": [
    {
     "name": "stdout",
     "output_type": "stream",
     "text": [
      "윤재근입니다\n"
     ]
    }
   ],
   "source": [
    "a='윤재근'\n",
    "print(a+'입니다')"
   ]
  },
  {
   "cell_type": "code",
   "execution_count": 37,
   "id": "64a2d90d-d30f-4214-82d5-8602f30faa41",
   "metadata": {},
   "outputs": [
    {
     "name": "stdout",
     "output_type": "stream",
     "text": [
      "성인입니다\n",
      "당신은 20 살 입니다\n"
     ]
    }
   ],
   "source": [
    "a=20\n",
    "\n",
    "if a>=20 :\n",
    "    print('성인입니다')\n",
    "    print('당신은 %d 살 입니다'%a)"
   ]
  },
  {
   "cell_type": "code",
   "execution_count": 52,
   "id": "5caf6f81-662f-4fb1-875b-a699b1f332c2",
   "metadata": {},
   "outputs": [
    {
     "name": "stdin",
     "output_type": "stream",
     "text": [
      "나이를 입력하세요 22\n"
     ]
    },
    {
     "name": "stdout",
     "output_type": "stream",
     "text": [
      "성인입니다\n"
     ]
    }
   ],
   "source": [
    "a=input('나이를 입력하세요')\n",
    "a1=int(a)\n",
    "\n",
    "if a1>=40:\n",
    "    print('성인입니다')\n",
    "    print('당신은 중년 입니다')\n",
    "\n",
    "elif a1 >= 20:\n",
    "    print('성인입니다')\n",
    "    \n",
    "else :\n",
    "    print('성인이 아닙니다')"
   ]
  },
  {
   "cell_type": "code",
   "execution_count": 57,
   "id": "9e5b72c4-d823-4667-ac6c-129d21c48a46",
   "metadata": {},
   "outputs": [
    {
     "name": "stdout",
     "output_type": "stream",
     "text": [
      "중년입니다\n"
     ]
    }
   ],
   "source": [
    "a=4\n",
    "\n",
    "if a >= 60:\n",
    "    print('성인입니다')\n",
    "    print('당신은 노년입니다')\n",
    "\n",
    "elif a >= 40:\n",
    "    print('중년입니다')\n",
    "    \n",
    "elif a >= 20:\n",
    "    print('청년입니다')\n",
    "    \n",
    "else:\n",
    "    print('성인이 아닙니다')"
   ]
  },
  {
   "cell_type": "code",
   "execution_count": 61,
   "id": "09469fd9-7e6c-426c-8379-d2f6abc9ebc1",
   "metadata": {},
   "outputs": [
    {
     "name": "stdin",
     "output_type": "stream",
     "text": [
      "수를 입력하세요 2\n"
     ]
    },
    {
     "name": "stdout",
     "output_type": "stream",
     "text": [
      "짝수\n"
     ]
    }
   ],
   "source": [
    "a=input('수를 입력하세요')\n",
    "a1=int(a)\n",
    "\n",
    "if a1%2 == 1:\n",
    "    print('홀수')\n",
    "\n",
    "else :\n",
    "    print('짝수')"
   ]
  },
  {
   "cell_type": "code",
   "execution_count": 64,
   "id": "d076d416-434c-453d-80dc-56ed031ada2a",
   "metadata": {},
   "outputs": [
    {
     "name": "stdout",
     "output_type": "stream",
     "text": [
      "양수\n"
     ]
    }
   ],
   "source": [
    "num = 10\n",
    "\n",
    "if num > 0 :\n",
    "    if num % 2 == 0 :\n",
    "        print('양수')\n",
    "    else:\n",
    "        print('')\n",
    "else:\n",
    "        print('음수')"
   ]
  },
  {
   "cell_type": "code",
   "execution_count": 90,
   "id": "fbd0ddd9-33c2-4d75-851f-fdd0b2cc32b2",
   "metadata": {
    "collapsed": true,
    "jupyter": {
     "outputs_hidden": true
    },
    "tags": []
   },
   "outputs": [
    {
     "name": "stdout",
     "output_type": "stream",
     "text": [
      "Hello 1\n",
      "Hello 2\n",
      "Hello 3\n",
      "Hello 4\n",
      "Hello 5\n",
      "Hello 6\n",
      "Hello 7\n",
      "Hello 8\n",
      "Hello 9\n",
      "Hello 10\n"
     ]
    }
   ],
   "source": [
    "a = 1\n",
    "\n",
    "while a <= 10 :\n",
    "    print('Hello %d' % a)\n",
    "    a = a+1"
   ]
  },
  {
   "cell_type": "code",
   "execution_count": 103,
   "id": "31a7b06f-e38a-4f54-8653-d1865c8ed589",
   "metadata": {
    "collapsed": true,
    "jupyter": {
     "outputs_hidden": true
    },
    "tags": []
   },
   "outputs": [
    {
     "name": "stdout",
     "output_type": "stream",
     "text": [
      "5\n",
      "10\n",
      "15\n",
      "20\n",
      "25\n",
      "30\n",
      "35\n",
      "40\n",
      "45\n",
      "50\n",
      "55\n",
      "60\n",
      "65\n",
      "70\n",
      "75\n",
      "80\n",
      "85\n",
      "90\n",
      "95\n",
      "100\n"
     ]
    }
   ],
   "source": [
    "a=1\n",
    "\n",
    "while a <= 100 :\n",
    "    if a % 5 == 0 :\n",
    "        print(a)\n",
    "    a=a+1\n"
   ]
  },
  {
   "cell_type": "code",
   "execution_count": 106,
   "id": "efa7c13f-45e8-435d-b84f-a00e49f6c76e",
   "metadata": {},
   "outputs": [
    {
     "name": "stdout",
     "output_type": "stream",
     "text": [
      "range(0, 5)\n"
     ]
    }
   ],
   "source": [
    "print(range(5))"
   ]
  },
  {
   "cell_type": "code",
   "execution_count": 107,
   "id": "17f960bc-6cfb-4cff-aeda-a40e24ec004a",
   "metadata": {},
   "outputs": [
    {
     "name": "stdout",
     "output_type": "stream",
     "text": [
      "range(0, 10)\n"
     ]
    }
   ],
   "source": [
    "print(range(10))"
   ]
  },
  {
   "cell_type": "code",
   "execution_count": 111,
   "id": "bf4def24-508f-4517-b34a-c18e30bffa8e",
   "metadata": {
    "collapsed": true,
    "jupyter": {
     "outputs_hidden": true
    },
    "tags": []
   },
   "outputs": [
    {
     "name": "stdout",
     "output_type": "stream",
     "text": [
      "0\n",
      "1\n",
      "2\n",
      "3\n",
      "4\n",
      "5\n",
      "6\n",
      "7\n",
      "8\n",
      "9\n"
     ]
    }
   ],
   "source": [
    "for i in range(10):\n",
    "    print(i)\n"
   ]
  },
  {
   "cell_type": "code",
   "execution_count": 113,
   "id": "d93136e4-5ea2-450b-9f5d-79283a7beab4",
   "metadata": {
    "collapsed": true,
    "jupyter": {
     "outputs_hidden": true
    },
    "tags": []
   },
   "outputs": [
    {
     "name": "stdout",
     "output_type": "stream",
     "text": [
      "1\n",
      "2\n",
      "3\n",
      "4\n",
      "5\n",
      "6\n",
      "7\n",
      "8\n",
      "9\n",
      "10\n",
      "11\n",
      "12\n",
      "13\n",
      "14\n",
      "15\n",
      "16\n",
      "17\n",
      "18\n",
      "19\n",
      "20\n",
      "21\n",
      "22\n",
      "23\n",
      "24\n",
      "25\n",
      "26\n",
      "27\n",
      "28\n",
      "29\n",
      "30\n",
      "31\n",
      "32\n",
      "33\n",
      "34\n",
      "35\n",
      "36\n",
      "37\n",
      "38\n",
      "39\n",
      "40\n",
      "41\n",
      "42\n",
      "43\n",
      "44\n",
      "45\n",
      "46\n",
      "47\n",
      "48\n",
      "49\n",
      "50\n",
      "51\n",
      "52\n",
      "53\n",
      "54\n",
      "55\n",
      "56\n",
      "57\n",
      "58\n",
      "59\n",
      "60\n",
      "61\n",
      "62\n",
      "63\n",
      "64\n",
      "65\n",
      "66\n",
      "67\n",
      "68\n",
      "69\n",
      "70\n",
      "71\n",
      "72\n",
      "73\n",
      "74\n",
      "75\n",
      "76\n",
      "77\n",
      "78\n",
      "79\n",
      "80\n",
      "81\n",
      "82\n",
      "83\n",
      "84\n",
      "85\n",
      "86\n",
      "87\n",
      "88\n",
      "89\n",
      "90\n",
      "91\n",
      "92\n",
      "93\n",
      "94\n",
      "95\n",
      "96\n",
      "97\n",
      "98\n",
      "99\n",
      "100\n"
     ]
    }
   ],
   "source": [
    "for i in range(100):\n",
    "    print(i+1)"
   ]
  },
  {
   "cell_type": "code",
   "execution_count": 2,
   "id": "a986a3be-d555-4b94-bd05-dee99df93725",
   "metadata": {
    "collapsed": true,
    "jupyter": {
     "outputs_hidden": true
    },
    "tags": []
   },
   "outputs": [
    {
     "name": "stdout",
     "output_type": "stream",
     "text": [
      "['사과', '배', '딸기', '포도', '수박']\n",
      "나는 사과를 좋아합니다\n",
      "나는 배를 좋아합니다\n",
      "나는 딸기를 좋아합니다\n",
      "나는 포도를 좋아합니다\n",
      "나는 수박를 좋아합니다\n"
     ]
    }
   ],
   "source": [
    "fruits = ['사과','배','딸기','포도','수박']\n",
    "print(fruits)\n",
    "type(fruits)\n",
    "len(fruits)\n",
    "type(len(fruits))\n",
    "\n",
    "for f in fruits:\n",
    "    print('나는 '+f+'를 좋아합니다')\n",
    "\n",
    "fruits[1] = \"오렌지\""
   ]
  },
  {
   "cell_type": "code",
   "execution_count": 7,
   "id": "b241db61-35f1-4cdd-8880-0436d113f8bb",
   "metadata": {},
   "outputs": [
    {
     "name": "stdout",
     "output_type": "stream",
     "text": [
      "['사과', '오렌지', '딸기', '포도', '수박']\n"
     ]
    }
   ],
   "source": [
    "fruits = ['사과','배','딸기','포도','수박']\n",
    "\n",
    "fruits[1] = \"오렌지\"\n",
    "print(fruits)"
   ]
  },
  {
   "cell_type": "code",
   "execution_count": 34,
   "id": "d25fd010-5a13-4d81-8d2f-23ceab16a1fd",
   "metadata": {
    "collapsed": true,
    "jupyter": {
     "outputs_hidden": true
    },
    "tags": []
   },
   "outputs": [
    {
     "name": "stdout",
     "output_type": "stream",
     "text": [
      "[100, 110, 120, 130, 140, 150]\n",
      "<class 'list'>\n",
      "6\n",
      "100\n",
      "110\n",
      "120\n",
      "130\n",
      "140\n",
      "150\n",
      "100\n",
      "210\n",
      "330\n",
      "460\n",
      "600\n",
      "750\n"
     ]
    }
   ],
   "source": [
    "number = [100,110,120,130,140,150]\n",
    "print(number)\n",
    "print(type(number))\n",
    "\n",
    "print(len(number))\n",
    "\n",
    "for f in number :\n",
    "    print(f)\n",
    "\n",
    "sum=0\n",
    "for f in number:\n",
    "    sum=sum+f\n",
    "    print(sum)"
   ]
  },
  {
   "cell_type": "code",
   "execution_count": 17,
   "id": "80bb6909-c558-4a31-a274-d1b1015f9cc7",
   "metadata": {
    "tags": []
   },
   "outputs": [
    {
     "name": "stdout",
     "output_type": "stream",
     "text": [
      "5\n"
     ]
    }
   ],
   "source": [
    "num = [1,2,3,4,5,6,7,8,9,10]\n",
    "\n",
    "sum=0\n",
    "cnt=0\n",
    "\n",
    "for n in num:\n",
    "    if n % 2 == 0 :\n",
    "        cnt=cnt+1\n",
    "print(cnt)\n"
   ]
  }
 ],
 "metadata": {
  "kernelspec": {
   "display_name": "Python 3 (ipykernel)",
   "language": "python",
   "name": "python3"
  },
  "language_info": {
   "codemirror_mode": {
    "name": "ipython",
    "version": 3
   },
   "file_extension": ".py",
   "mimetype": "text/x-python",
   "name": "python",
   "nbconvert_exporter": "python",
   "pygments_lexer": "ipython3",
   "version": "3.9.7"
  }
 },
 "nbformat": 4,
 "nbformat_minor": 5
}
